{
 "cells": [
  {
   "cell_type": "code",
   "execution_count": 1,
   "id": "equal-friend",
   "metadata": {
    "scrolled": true
   },
   "outputs": [
    {
     "name": "stdout",
     "output_type": "stream",
     "text": [
      "2002,2009,2016,2023,2037,2044,2051,2058,2072,2079,2086,2093,2107,2114,2121,2128,2142,2149,2156,2163,2177,2184,2191,2198,2212,2219,2226,2233,2247,2254,2261,2268,2282,2289,2296,2303,2317,2324,2331,2338,2352,2359,2366,2373,2387,2394,2401,2408,2422,2429,2436,2443,2457,2464,2471,2478,2492,2499,2506,2513,2527,2534,2541,2548,2562,2569,2576,2583,2597,2604,2611,2618,2632,2639,2646,2653,2667,2674,2681,2688,2702,2709,2716,2723,2737,2744,2751,2758,2772,2779,2786,2793,2807,2814,2821,2828,2842,2849,2856,2863,2877,2884,2891,2898,2912,2919,2926,2933,2947,2954,2961,2968,2982,2989,2996,3003,3017,3024,3031,3038,3052,3059,3066,3073,3087,3094,3101,3108,3122,3129,3136,3143,3157,3164,3171,3178,3192,3199\n"
     ]
    }
   ],
   "source": [
    "# 1. Write a program which will find all such numbers which are divisible by 7 but are not a multiple of 5, \n",
    "# between 2000 and 3200 (both include). The numbers obtained should be printed in a comma-separated sequence on a single line.\n",
    "\n",
    "# Initilizing the source values as list\n",
    "src = range(2000,3201)\n",
    "\n",
    "result = [] # will store the all values which are divisible by 7 but are not a multiple of 5\n",
    "for x in src:\n",
    "    if x%7==0: # checking if x is divisible by 7 or not\n",
    "        if x%5!=0:  # checking if x is multiple of 5 or not\n",
    "            result.append(x) # adding x to list\n",
    "\n",
    "# converting list of integers to string values with comma separated values\n",
    "f_result = \",\".join([str(x) for x in result])\n",
    "\n",
    "# Displaying output values\n",
    "print(f_result)"
   ]
  },
  {
   "cell_type": "code",
   "execution_count": 2,
   "id": "sensitive-transportation",
   "metadata": {},
   "outputs": [
    {
     "name": "stdout",
     "output_type": "stream",
     "text": [
      "Enter first NamePython\n",
      "Enter last NameProgramming\n",
      "nohtyP gnimmargorP\n"
     ]
    }
   ],
   "source": [
    "# 2. Write a Python program to accept the user's first and last name and then \n",
    "# getting them printed in the reverse order with a space between first and last name\n",
    "\n",
    "# User input for first name and last name\n",
    "first_name = input(\"Enter first Name\")\n",
    "last_name = input(\"Enter last Name\")\n",
    "\n",
    "f_reverse = \"\"\n",
    "l_reverse = \"\"\n",
    "\n",
    "# reversing first name\n",
    "for x in first_name:\n",
    "    f_reverse = x + f_reverse\n",
    "\n",
    "# reversing last name\n",
    "for y in last_name:\n",
    "    l_reverse = y + l_reverse\n",
    "    \n",
    "# printing output\n",
    "print(' '.join([f_reverse,l_reverse]))\n"
   ]
  },
  {
   "cell_type": "code",
   "execution_count": 3,
   "id": "official-candidate",
   "metadata": {},
   "outputs": [
    {
     "name": "stdout",
     "output_type": "stream",
     "text": [
      "904.7786842338603\n"
     ]
    }
   ],
   "source": [
    "# 3. Write a Python program to find the volume of a sphere with diameter 12 cm.Formula: V=4/3 * π * r3\n",
    "\n",
    "# Diameter of a Sphere D = 2 r\n",
    "\n",
    "\n",
    "import math\n",
    "\n",
    "# Assigning pi values form math.pi \n",
    "pi = math.pi\n",
    "\n",
    "# Converting Diameter into Radious\n",
    "\n",
    "r = float(12/2)\n",
    "\n",
    "# print(r)\n",
    "# print(r**3)\n",
    "# Calculating volume\n",
    "V = float(4/3)*pi*(r)**3\n",
    "\n",
    "# printing output\n",
    "print(V)\n"
   ]
  },
  {
   "cell_type": "code",
   "execution_count": null,
   "id": "inclusive-belief",
   "metadata": {},
   "outputs": [],
   "source": []
  },
  {
   "cell_type": "code",
   "execution_count": null,
   "id": "framed-product",
   "metadata": {},
   "outputs": [],
   "source": []
  }
 ],
 "metadata": {
  "kernelspec": {
   "display_name": "Python 3",
   "language": "python",
   "name": "python3"
  },
  "language_info": {
   "codemirror_mode": {
    "name": "ipython",
    "version": 3
   },
   "file_extension": ".py",
   "mimetype": "text/x-python",
   "name": "python",
   "nbconvert_exporter": "python",
   "pygments_lexer": "ipython3",
   "version": "3.8.5"
  }
 },
 "nbformat": 4,
 "nbformat_minor": 5
}
