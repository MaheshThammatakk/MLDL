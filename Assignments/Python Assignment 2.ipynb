{
 "cells": [
  {
   "cell_type": "code",
   "execution_count": 1,
   "id": "aerial-movie",
   "metadata": {},
   "outputs": [
    {
     "name": "stdout",
     "output_type": "stream",
     "text": [
      "Enter the number of '*' to display in the middle rows: 5\n",
      "\n",
      "* \n",
      "* * \n",
      "* * * \n",
      "* * * * \n",
      "* * * * * \n",
      "* * * * \n",
      "* * * \n",
      "* * \n",
      "* \n"
     ]
    }
   ],
   "source": [
    "# 1. Create the below pattern using nested for loop in Python. \n",
    "\n",
    "# user input for number of '*' middle starts\n",
    "no_of_rows = int(input(\"Enter the number of '*' to display in the middle rows: \"))\n",
    "\n",
    "for x in range(no_of_rows):\n",
    "    for y in range(x):\n",
    "        print('*', end=' ')\n",
    "        \n",
    "    print('')\n",
    "\n",
    "for x in range(no_of_rows,0,-1):\n",
    "    for y in range(x):\n",
    "        print('*', end=' ')\n",
    "        \n",
    "    print('')\n"
   ]
  },
  {
   "cell_type": "code",
   "execution_count": 2,
   "id": "dynamic-colony",
   "metadata": {},
   "outputs": [
    {
     "name": "stdout",
     "output_type": "stream",
     "text": [
      "Enter the string to display in the reverse: ineuron\n",
      "norueni\n"
     ]
    }
   ],
   "source": [
    "# 2. Write a Python program to reverse a word after accepting the input from the user\n",
    "\n",
    "# user input for the string\n",
    "\n",
    "user_input = input(\"Enter the string to display in the reverse: \")\n",
    "\n",
    "result = ''\n",
    "for x in user_input:\n",
    "    result = x + result\n",
    "    \n",
    "# Display the output\n",
    "print(result)"
   ]
  },
  {
   "cell_type": "code",
   "execution_count": null,
   "id": "wired-sleep",
   "metadata": {},
   "outputs": [],
   "source": []
  }
 ],
 "metadata": {
  "kernelspec": {
   "display_name": "Python 3",
   "language": "python",
   "name": "python3"
  },
  "language_info": {
   "codemirror_mode": {
    "name": "ipython",
    "version": 3
   },
   "file_extension": ".py",
   "mimetype": "text/x-python",
   "name": "python",
   "nbconvert_exporter": "python",
   "pygments_lexer": "ipython3",
   "version": "3.8.5"
  }
 },
 "nbformat": 4,
 "nbformat_minor": 5
}
