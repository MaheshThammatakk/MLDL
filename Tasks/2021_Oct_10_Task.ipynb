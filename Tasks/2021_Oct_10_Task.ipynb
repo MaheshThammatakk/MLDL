{
 "cells": [
  {
   "cell_type": "code",
   "execution_count": null,
   "id": "outside-record",
   "metadata": {},
   "outputs": [],
   "source": [
    "import os\n",
    "import pandas as pd\n",
    "import numpy as np\n",
    "\n",
    "in_path = r'C:\\Users\\Mahesh T\\Ineuron_MLDL_Recordings\\AReM'\n",
    "out_path = r'C:\\Users\\Mahesh T\\Ineuron_MLDL_Recordings\\AReM_Output'"
   ]
  },
  {
   "cell_type": "code",
   "execution_count": null,
   "id": "identified-england",
   "metadata": {},
   "outputs": [],
   "source": [
    "\"\"\" Listing all the Sub Directories from Main directory \"\"\"\n",
    "def listSubDir(path):\n",
    "    try:\n",
    "        print('listSubDir')\n",
    "        list_dir = []\n",
    "        dirs = os.listdir(path)\n",
    "        for dir in dirs:\n",
    "            full_path = os.path.join(path,dir)\n",
    "            if os.path.isdir(full_path):\n",
    "#                 print(full_path)\n",
    "                list_dir.append(full_path)\n",
    "        return list_dir\n",
    "    except Exception as e:\n",
    "        print(e)"
   ]
  },
  {
   "cell_type": "code",
   "execution_count": null,
   "id": "saved-tragedy",
   "metadata": {},
   "outputs": [],
   "source": [
    "\"\"\" Input: Data Frame, function will extract the columns (based on '# Columns:' string) from data frame and will remove the unwanted data(based on '# charactor row')\n",
    "    Output: Returns new data frame with column names\n",
    "\"\"\"\n",
    "def cleanCSV(df):\n",
    "    try:\n",
    "        print('cleanCSV')\n",
    "        col_names = df.iloc[np.where(df['col_name'].str.contains('# Columns') == True)]['col_name'].str.replace('# Columns: ','').str.split(',')\n",
    "#         print(col_names)\n",
    "        col_names = list(col_names)\n",
    "        col_names = col_names[0]\n",
    "#         print(col_names)\n",
    "        \n",
    "        del_col_idx = np.where(df['col_name'].str.contains('# ') == True)\n",
    "        del_col_idx = list(del_col_idx[0])\n",
    "        df = df.drop(del_col_idx)\n",
    "        df = df['col_name'].str.split(',', expand = True)\n",
    "        df = df.set_axis(col_names,axis=1)\n",
    "#         print(df)\n",
    "        \n",
    "        return df\n",
    "    except Exception as e:\n",
    "        print(e)"
   ]
  },
  {
   "cell_type": "code",
   "execution_count": null,
   "id": "endless-significance",
   "metadata": {},
   "outputs": [],
   "source": [
    "\"\"\" Provide the Directory path as input and It read all the csv files and returns as single dataframe with one column and directory name\"\"\"\n",
    "def listCSV_and_Combine_CSVData(path):\n",
    "    try:\n",
    "        print('listCSV_and_Combine_CSVData')\n",
    "        file_list = []\n",
    "#         print(path)\n",
    "        entries = os.listdir(path)\n",
    "        for entry in entries:\n",
    "            full_path = os.path.join(path,entry)\n",
    "            if full_path.endswith('csv'):\n",
    "                df = pd.read_csv(full_path,sep= '@',names=['col_name'])\n",
    "                file_list.append(df)\n",
    "            \n",
    "#         print(pd.concat(file_list,ignore_index=True))\n",
    "                \n",
    "            \n",
    "        return cleanCSV(pd.concat(file_list,ignore_index=True)),os.path.basename(path)\n",
    "        \n",
    "    except Exception as e:\n",
    "        print(e)"
   ]
  },
  {
   "cell_type": "code",
   "execution_count": null,
   "id": "public-papua",
   "metadata": {},
   "outputs": [],
   "source": [
    "import os\n",
    "import pandas as pd\n",
    "import numpy as np\n",
    "\n",
    "def start_job(path):\n",
    "    try:\n",
    "        print('start_job')\n",
    "        subdirs = listSubDir(path)\n",
    "        if len(subdirs) > 0:\n",
    "            for dir in subdirs:\n",
    "                print(dir)\n",
    "                df,dirname = listCSV_and_Combine_CSVData(dir)\n",
    "                df.to_csv(out_path+'\\\\'+dirname+'.csv',sep=',')\n",
    "        else:\n",
    "            df,dirname = listCSV_and_Combine_CSVData(path)\n",
    "#             print(df)\n",
    "            \n",
    "            df.to_csv(out_path+'\\\\'+dirname+'.csv',sep=',')\n",
    "            \n",
    "        \n",
    "        \n",
    "    except Exception as e:\n",
    "        print(e)"
   ]
  },
  {
   "cell_type": "code",
   "execution_count": null,
   "id": "formal-simpson",
   "metadata": {},
   "outputs": [],
   "source": [
    "start_job(in_path)"
   ]
  },
  {
   "cell_type": "code",
   "execution_count": null,
   "id": "latin-absorption",
   "metadata": {},
   "outputs": [],
   "source": []
  }
 ],
 "metadata": {
  "kernelspec": {
   "display_name": "Python 3",
   "language": "python",
   "name": "python3"
  },
  "language_info": {
   "codemirror_mode": {
    "name": "ipython",
    "version": 3
   },
   "file_extension": ".py",
   "mimetype": "text/x-python",
   "name": "python",
   "nbconvert_exporter": "python",
   "pygments_lexer": "ipython3",
   "version": "3.8.5"
  }
 },
 "nbformat": 4,
 "nbformat_minor": 5
}
